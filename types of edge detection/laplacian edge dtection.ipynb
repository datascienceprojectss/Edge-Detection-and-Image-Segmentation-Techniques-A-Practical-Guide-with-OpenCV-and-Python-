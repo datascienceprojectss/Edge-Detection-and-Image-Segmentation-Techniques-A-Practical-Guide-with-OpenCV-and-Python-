edges_laplacian = cv2.Laplacian(gray, cv2.CV_64F)
axes[0, 3].imshow(edges_laplacian, cmap='gray')
axes[0, 3].set_title("Laplacian Edge Detection")
