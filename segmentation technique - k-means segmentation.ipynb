# K-Means Segmentation

def segment_kmeans(image, k=3):
    pixel_values = image.reshape((-1, 3))
    kmeans = KMeans(n_clusters=k, random_state=42)
    labels = kmeans.fit_predict(pixel_values)
    segmented_image = labels.reshape(image.shape[:2])
    return segmented_image
seg_kmeans = segment_kmeans(image, k=3)
plt.imshow(seg_kmeans, cmap='viridis')
plt.title("K-Means Segmentation")
plt.axis("off")
plt.show()
