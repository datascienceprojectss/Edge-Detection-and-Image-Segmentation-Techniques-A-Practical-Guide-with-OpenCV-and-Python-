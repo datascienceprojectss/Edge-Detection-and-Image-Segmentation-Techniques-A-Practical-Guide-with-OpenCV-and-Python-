edges_scharr_x = cv2.Scharr(gray, cv2.CV_64F, 1, 0)
edges_scharr_y = cv2.Scharr(gray, cv2.CV_64F, 0, 1)
edges_scharr = cv2.magnitude(edges_scharr_x, edges_scharr_y)
axes[1, 1].imshow(edges_scharr, cmap='gray')
axes[1, 1].set_title("Scharr Edge Detection")
for ax in axes.flatten():
    ax.axis("off")  
plt.show()

