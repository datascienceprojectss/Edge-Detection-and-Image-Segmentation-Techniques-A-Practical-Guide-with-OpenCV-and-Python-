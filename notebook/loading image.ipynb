#importing essential libraries
! pip install opencv-python
! pip install numpy
! pip install scikit-image
! pip install matplotlib
! pip install scikit-learn
! pip install tensorflow
import cv2
import numpy as np
import matplotlib.pyplot as plt
from sklearn.cluster import KMeans
from skimage import filters
from tensorflow.keras.models import load_model
# Loading image
image_path = "picture.jpg"  
image = cv2.imread(image_path)
gray = cv2.cvtColor(image, cv2.COLOR_BGR2GRAY)
# Displaying original image
plt.figure(figsize=(6,3))
plt.subplot(1,2,1)
plt.imshow(cv2.cvtColor(image, cv2.COLOR_BGR2RGB))
plt.title("Original Image")
plt.axis("off")

