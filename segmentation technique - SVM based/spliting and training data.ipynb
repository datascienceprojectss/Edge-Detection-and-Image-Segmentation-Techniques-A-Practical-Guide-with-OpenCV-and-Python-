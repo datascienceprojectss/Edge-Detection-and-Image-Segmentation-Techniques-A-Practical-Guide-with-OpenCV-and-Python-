from sklearn.svm import SVC
from sklearn.model_selection import train_test_split 
# Reshaping the image for training
h, w = gray.shape
pixel_values = gray.reshape((-1, 1)) 
# Generating pseudo-labels 
labels = np.where(pixel_values > np.median(pixel_values), 1, 0)
# Spliting data for training/testing
X_train, X_test, y_train, y_test = train_test_split(pixel_values, labels, test_size=0.2, random_state=42)
# Training SVM model
svm = SVC(kernel='linear')
svm.fit(X_train, y_train)
