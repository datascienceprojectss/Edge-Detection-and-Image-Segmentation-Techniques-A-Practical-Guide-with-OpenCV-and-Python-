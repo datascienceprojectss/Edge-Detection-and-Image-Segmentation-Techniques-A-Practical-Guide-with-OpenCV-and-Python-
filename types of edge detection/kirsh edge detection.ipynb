edges_kirsch = gradient(gray, disk(1))
axes[1, 2].imshow(edges_kirsch, cmap='gray')
axes[1, 2].set_title("Kirsch Edge Detection")
