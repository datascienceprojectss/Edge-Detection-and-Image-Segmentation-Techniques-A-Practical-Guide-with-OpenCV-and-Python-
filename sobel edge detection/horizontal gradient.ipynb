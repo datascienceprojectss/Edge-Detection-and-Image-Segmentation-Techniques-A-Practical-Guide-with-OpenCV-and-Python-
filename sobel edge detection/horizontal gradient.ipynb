sobel_x = cv2.Sobel(image, cv2.CV_64F, 1, 0, ksize=3)  # Horizontal gradient (1st derivative)
sobel_y = cv2.Sobel(image, cv2.CV_64F, 0, 1, ksize=3)  # Vertical gradient
gradient_magnitude = np.sqrt(sobel_x**2 + sobel_y**2)
gradient_magnitude = cv2.convertScaleAbs(gradient_magnitude)
gradient_direction = np.arctan2(sobel_y, sobel_x)  # Angle in radians
gradient_direction_degrees = np.degrees(gradient_direction)  # Converting to degrees
gradient_direction_degrees = (gradient_direction_degrees + 180) % 360  # Normalizing to [0, 360]
plt.figure(figsize=(15, 5))
plt.subplot(1, 3, 1)
plt.imshow(image, cmap="gray")
plt.title("Original Image")
plt.axis("off")
# Horizontal Gradient (Sobel X)
plt.subplot(1, 3, 2)
plt.imshow(cv2.convertScaleAbs(sobel_x), cmap="gray")
plt.title("Horizontal Gradient (Sobel X)")
plt.axis("off")
plt.show()

