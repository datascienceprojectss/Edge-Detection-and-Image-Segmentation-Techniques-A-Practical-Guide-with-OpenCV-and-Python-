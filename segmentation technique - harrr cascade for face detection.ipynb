# Loading Haar Cascade for face detection
face_cascade = cv2.CascadeClassifier(cv2.data.haarcascades + "haarcascade_frontalface_default.xml")
faces = face_cascade.detectMultiScale(gray, scaleFactor=1.1, minNeighbors=5, minSize=(30, 30))
# Drawing bounding box and extract face
for (x, y, w, h) in faces:
    face = image[y:y+h, x:x+w]  # Croping face region
    cv2.rectangle(image, (x, y), (x+w, y+h), (255, 0, 0), 2)
# Displaying detected face
plt.subplot(1, 2, 1)
plt.imshow(cv2.cvtColor(image, cv2.COLOR_BGR2RGB))
plt.title("Detected Face")
plt.axis("off")

plt.subplot(1, 2, 2)
plt.imshow(cv2.cvtColor(face, cv2.COLOR_BGR2RGB))
plt.title("Segmented Face")
plt.axis("off")
plt.show()
