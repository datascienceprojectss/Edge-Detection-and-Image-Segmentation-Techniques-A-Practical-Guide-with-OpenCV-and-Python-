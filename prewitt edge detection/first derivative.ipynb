prewitt_x = prewitt(image, axis=0)  # Horizontal edges
prewitt_y = prewitt(image, axis=1)  # Vertical edges
laplacian_prewitt = cv2.Laplacian(gradient_magnitude, cv2.CV_64F)
laplacian_prewitt = cv2.convertScaleAbs(laplacian_prewitt)
plt.figure(figsize=(15, 5))
plt.subplot(1, 3, 1)
plt.imshow(image, cmap="gray")
plt.title("Original Image")
plt.axis("off")
plt.subplot(1, 3, 2)
plt.imshow(gradient_magnitude, cmap="gray")
plt.title("Prewitt 1st Derivative (Gradient Magnitude)")
plt.axis("off")
