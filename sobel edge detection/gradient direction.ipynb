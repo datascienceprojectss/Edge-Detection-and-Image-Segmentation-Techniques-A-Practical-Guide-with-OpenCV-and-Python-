image_path = "picture.jpg"  
image = cv2.imread(image_path, cv2.IMREAD_GRAYSCALE)
sobel_x = cv2.Sobel(image, cv2.CV_64F, 1, 0, ksize=3)  # Gradient in x direction
sobel_y = cv2.Sobel(image, cv2.CV_64F, 0, 1, ksize=3)  # Gradient in y direction
gradient_direction = np.arctan2(sobel_y, sobel_x)  # Angle in radians
gradient_direction_degrees = np.degrees(gradient_direction)  # Converting radians to degrees
gradient_direction_degrees = (gradient_direction_degrees + 180) % 360  # Normalizing to [0, 360]
plt.figure(figsize=(15, 5))
plt.subplot(1, 3, 1)
plt.imshow(image, cmap="gray")
plt.title("Original Image")
plt.axis("off")
plt.subplot(1, 3, 3)
plt.imshow(gradient_direction_degrees, cmap="hsv")  # HSV colormap for angle visualization
plt.title("Gradient Direction (Degrees)")
plt.colorbar(label="Angle (Degrees)")
plt.axis("off")
plt.show()
