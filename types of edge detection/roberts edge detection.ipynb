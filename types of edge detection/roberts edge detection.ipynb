edges_roberts = roberts(gray)
axes[1, 0].imshow(edges_roberts, cmap='gray')
axes[1, 0].set_title("Roberts Edge Detection")
for ax in axes.flatten():
    ax.axis("off")  
plt.show()

