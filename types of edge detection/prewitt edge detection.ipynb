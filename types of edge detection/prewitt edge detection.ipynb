edges_prewitt = prewitt(gray)
axes[0, 2].imshow(edges_prewitt, cmap='gray')
axes[0, 2].set_title("Prewitt Edge Detection")
