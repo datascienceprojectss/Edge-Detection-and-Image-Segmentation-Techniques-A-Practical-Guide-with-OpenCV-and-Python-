edges_sobel = sobel(gray)
fig, axes = plt.subplots(2, 4, figsize=(20, 10))
axes[0, 1].imshow(edges_sobel, cmap='gray')
axes[0, 1].set_title("Sobel Edge Detection")
